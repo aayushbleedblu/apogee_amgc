{
 "cells": [
  {
   "cell_type": "code",
   "execution_count": 75,
   "metadata": {
    "collapsed": true
   },
   "outputs": [],
   "source": [
    "# Importing all the libraries needed\n",
    "import numpy as np\n",
    "import pandas as pd\n",
    "import scipy \n",
    "import matplotlib as mplt\n",
    "import os\n",
    "from pydub import AudioSegment\n",
    "from python_speech_features import mfcc, logfbank, ssc\n",
    "import scipy.io.wavfile as wav\n",
    "from sklearn.model_selection import train_test_split\n",
    "from sklearn.preprocessing import StandardScaler\n",
    "from sklearn.decomposition import PCA"
   ]
  },
  {
   "cell_type": "code",
   "execution_count": 76,
   "metadata": {
    "collapsed": true
   },
   "outputs": [],
   "source": [
    "# Some variable and path initializations\n",
    "os.chdir(\"/home/alex/Desktop/Bits,Coding and Extra/Bits_pilani_projects_and_competitions/Apogee_Project/apogee_amgc/genres1\")\n",
    "song_no = 0\n",
    "df = pd.DataFrame(columns=['mfcc_feat','fbank_feat','ssc','classification'],index=range(0,1000))\n",
    "copy_df = pd.DataFrame(columns=['mfcc_feat','fbank_feat','ssc','classification'],index=range(0,1000))"
   ]
  },
  {
   "cell_type": "code",
   "execution_count": 88,
   "metadata": {
    "collapsed": true
   },
   "outputs": [],
   "source": [
    "# Getting all the genres\n",
    "l = []\n",
    "for dirpaths,dirnames,filenames in os.walk(os.getcwd()):\n",
    "    l.append(dirnames)"
   ]
  },
  {
   "cell_type": "code",
   "execution_count": 78,
   "metadata": {
    "collapsed": true
   },
   "outputs": [],
   "source": [
    "# Extracting Features of the songs\n",
    "\n",
    "for i in l[0]:\n",
    "    #for genre in genres1\n",
    "    for x in range(100):\n",
    "        # for song in batch of songs\n",
    "        \n",
    "        # Extracting the features\n",
    "        (rate,sig) = wav.read(i+'/'+i+'.000'+\"%02d\"%x+'.wav')\n",
    "        mfcc_feat = mfcc(sig,rate,nfft=551)\n",
    "        fbank_feat = logfbank(sig,rate,nfft=551)\n",
    "        sig_temp = np.reshape(sig, (sig.shape[0],1))\n",
    "        ssc_var = ssc(sig_temp,rate,nfft=551)\n",
    "        \n",
    "        #Adding features to the pandas dataframe\n",
    "        df.iloc[song_no][0] = mfcc_feat[0:2992,:]\n",
    "        df.iloc[song_no][1] = fbank_feat[0:2992,:]\n",
    "        df.iloc[song_no][2] = ssc_var[0:2992,:]\n",
    "        df.iloc[song_no][3] = i\n",
    "        \n",
    "        # Incrementing the song number\n",
    "        song_no+=1\n",
    "        \n",
    "    "
   ]
  },
  {
   "cell_type": "code",
   "execution_count": null,
   "metadata": {
    "collapsed": true
   },
   "outputs": [],
   "source": [
    "# Doing the same operation twice, because of bug with deepcopy function in pandas \n",
    "\n",
    "song_no = 0\n",
    "\n",
    "# Extracting Features of the songs\n",
    "\n",
    "for i in l[0]:\n",
    "    #for genre in genres1\n",
    "    for x in range(100):\n",
    "        # for song in batch of songs\n",
    "        \n",
    "        # Extracting the features\n",
    "        (rate,sig) = wav.read(i+'/'+i+'.000'+\"%02d\"%x+'.wav')\n",
    "        mfcc_feat = mfcc(sig,rate,nfft=551)\n",
    "        fbank_feat = logfbank(sig,rate,nfft=551)\n",
    "        sig_temp = np.reshape(sig, (sig.shape[0],1))\n",
    "        ssc_var = ssc(sig_temp,rate,nfft=551)\n",
    "        \n",
    "        #Adding features to the pandas dataframe\n",
    "        copy_df.iloc[song_no][0] = mfcc_feat[0:2992,:]\n",
    "        copy_df.iloc[song_no][1] = fbank_feat[0:2992,:]\n",
    "        copy_df.iloc[song_no][2] = ssc_var[0:2992,:]\n",
    "        copy_df.iloc[song_no][3] = i\n",
    "        \n",
    "        # Incrementing the song number\n",
    "        song_no+=1\n",
    "        \n",
    "    "
   ]
  },
  {
   "cell_type": "code",
   "execution_count": null,
   "metadata": {
    "collapsed": true
   },
   "outputs": [],
   "source": [
    "## Standardizing the features of the songs ##\n",
    "\n",
    "# Splitting into train and test\n",
    "train, test = train_test_split(copy_df, test_size=0.2)\n",
    "\n",
    "# Normalizing according to each feature in each frame over all songs\n",
    "for frame in range(2992):\n",
    "    for feature in range(65):\n",
    "        temp = []  # Empty list\n",
    "        for song in range(800):\n",
    "            if feature < 13: # part of mfcc features\n",
    "                temp.append( (train.iloc[song,0])[frame,feature] )\n",
    "            elif feature >=13 and feature < 26 : # part of fbeat features\n",
    "                temp.append( (train.iloc[song,1])[frame,feature - 13] )\n",
    "            else: # part of ssc features\n",
    "                temp.append( (train.iloc[song,2])[frame,feature - 39] )\n",
    "\n",
    "        temp_arr = np.array(temp) # converting it to a rank 1 array\n",
    "        temp_arr = temp_arr.reshape(800,1) # converting into normal column vector\n",
    "        para = StandardScaler()\n",
    "        stand = para.fit_transform(temp_arr) \n",
    "    \n",
    "        # updating the values in train\n",
    "        for song2 in range(800):\n",
    "            if feature < 13: # part of mfcc features\n",
    "                (train.iloc[song2,0])[frame,feature] = stand[song2]\n",
    "            elif feature >=13 and feature < 26 : # part of fbeat features\n",
    "                (train.iloc[song2,1])[frame,feature - 13] = stand[song2]\n",
    "            else: # part of ssc features\n",
    "                (train.iloc[song2,2])[frame,feature - 39] = stand[song2]\n",
    "\n",
    "        # transforming the test set\n",
    "        temp3 = []\n",
    "        for song3 in range(200):\n",
    "            if feature < 13: # part of mfcc features\n",
    "                temp3.append( (test.iloc[song3,0])[frame,feature] )\n",
    "            elif feature >=13 and feature < 26 : # part of fbeat features\n",
    "                temp3.append( (test.iloc[song3,1])[frame,feature - 13] )\n",
    "            else: # part of ssc features\n",
    "                temp3.append( (test.iloc[song3,2])[frame,feature - 39] )\n",
    "        temp3_arr = np.array(temp3) # converting it to a rank 1 array\n",
    "        temp3_arr = temp3_arr.reshape(200,1)  # converting into normal column vector\n",
    "        stand3 = para.transform(temp3_arr) # normalizing one feature of the same frame over all songs\n",
    "\n",
    "        # updating the values in test\n",
    "        for song4 in range(200):\n",
    "            if feature < 13: # part of mfcc features\n",
    "                (test.iloc[song4,0])[frame,feature] = stand3[song4]\n",
    "            elif feature >=13 and feature < 26 : # part of fbeat features\n",
    "                (test.iloc[song4,1])[frame,feature - 13] = stand3[song4]\n",
    "            else: # part of ssc features\n",
    "                (test.iloc[song4,2])[frame,feature - 39] = stand3[song4]\n",
    "                "
   ]
  },
  {
   "cell_type": "code",
   "execution_count": null,
   "metadata": {
    "collapsed": true
   },
   "outputs": [],
   "source": [
    "print((copy_df.iloc[0,0])[0,0])\n",
    "\n",
    "(copy_df.iloc[0,0])[0,0] = 0.2\n",
    "\n",
    "print((copy_df.iloc[0,0])[0,0])\n",
    "print((df.iloc[0,0])[0,0])\n",
    "\n",
    "(copy_df.iloc[0,0])[0,0] = 21.2633158908\n",
    "print((copy_df.iloc[0,0])[0,0])\n",
    "print((df.iloc[0,0])[0,0])"
   ]
  },
  {
   "cell_type": "code",
   "execution_count": null,
   "metadata": {},
   "outputs": [],
   "source": [
    "## Applying PCA ##\n",
    "\n",
    "features = ['mfcc_feat','fbank_feat','ssc']\n",
    "\n",
    "#Separating out the features, fitting and tranforming the train and test data\n",
    "train_values = train.loc[:,features].values # returns an array from the dataframe\n",
    "\n",
    "for i in range(3):\n",
    "    t = StandardScaler().fit_transform(train_values[0])\n",
    "\n",
    "train_normalized = StandardScaler().fit_transform(train_values)\n",
    "\n",
    "# Transforming with the same scale for test values\n",
    "test_values = train.loc[:,features].values\n",
    "test_normalized = StandardScaler().transform(test_values)\n",
    "\n",
    "#Separating out the target\n",
    "train_classification = train.iloc[:,['classification']].values\n",
    "test_classification = test.iloc[:,['classification']].values\n",
    "\n",
    "# Number of components is 8\n",
    "pca = PCA( n_components = 8) \n",
    "\n",
    "principal_components_train = pca.fit_transform(train_normalized)\n",
    "principal_components_test = pca.fit_transform(test_normalized)\n",
    "\n",
    "pca_train_temp = pd.Dataframe(data = principal_components_train, columns = ['pca1','pca2','pca3','pca4','pca5','pca6','pca7','pca8']) \n",
    "pca_test_temp = pd.Dataframe(data = principal_components_test,columns = ['pca1','pca2','pca3','pca4','pca5','pca6','pca7','pca8'])\n",
    "\n",
    "pca_train_df = pd.concat( [pca_train_temp,train_classification], axis = 1 )\n",
    "pca_test_df = pd.concat( [pca_test_temp,test_classification], axis = 1 )\n",
    "\n",
    "print(pca_train_df)\n",
    "print(pca_test_df)\n"
   ]
  }
 ],
 "metadata": {
  "kernelspec": {
   "display_name": "Python 2",
   "language": "python",
   "name": "python2"
  },
  "language_info": {
   "codemirror_mode": {
    "name": "ipython",
    "version": 2
   },
   "file_extension": ".py",
   "mimetype": "text/x-python",
   "name": "python",
   "nbconvert_exporter": "python",
   "pygments_lexer": "ipython2",
   "version": "2.7.13"
  }
 },
 "nbformat": 4,
 "nbformat_minor": 2
}
