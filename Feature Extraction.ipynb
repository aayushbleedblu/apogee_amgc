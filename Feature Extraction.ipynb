{
 "cells": [
  {
   "cell_type": "code",
   "execution_count": 1,
   "metadata": {
    "collapsed": true
   },
   "outputs": [],
   "source": [
    "# Importing all the libraries needed\n",
    "import numpy as np\n",
    "import pandas as pd\n",
    "import scipy \n",
    "import os\n",
    "from pydub import AudioSegment\n",
    "from python_speech_features import mfcc, logfbank, ssc\n",
    "import scipy.io.wavfile as wav"
   ]
  },
  {
   "cell_type": "code",
   "execution_count": null,
   "metadata": {
    "collapsed": true
   },
   "outputs": [],
   "source": [
    "os.chdir(\"Desktop/acc/genres\")\n",
    "\n",
    "# Getting all the genres\n",
    "l = []\n",
    "for dirpaths,dirnames,filenames in os.walk(os.getcwd()):\n",
    "    l.append(dirnames)"
   ]
  },
  {
   "cell_type": "code",
   "execution_count": null,
   "metadata": {
    "collapsed": true
   },
   "outputs": [],
   "source": [
    "# Changing the format of the songs from .au to .wav\n",
    "for i in l[0]:\n",
    "    #for genre in genres1\n",
    "    for x in range(100):\n",
    "        # for song in batch of songs\n",
    "        \n",
    "        # Changing the format\n",
    "        song=AudioSegment.from_file(i+'/'+i+'.000'+\"%02d\"%x+'.au','au')\n",
    "        song.export(i+'/'+i+'.000'+\"%02d\"%x+'.wav',format='wav')\n",
    "        \n",
    "        # Incrementing the song number\n",
    "        song_no+=1"
   ]
  },
  {
   "cell_type": "code",
   "execution_count": 2,
   "metadata": {
    "collapsed": true
   },
   "outputs": [],
   "source": [
    "# Some variable and path initializations\n",
    "os.chdir(\"Desktop/acc/genres1\")\n",
    "song_no = 0\n",
    "df = pd.DataFrame(columns=['mfcc_feat','fbank_feat','ssc','classification'],index=range(0,1000))"
   ]
  },
  {
   "cell_type": "code",
   "execution_count": 3,
   "metadata": {
    "collapsed": true
   },
   "outputs": [],
   "source": [
    "# Getting all the genres\n",
    "l = []\n",
    "for dirpaths,dirnames,filenames in os.walk(os.getcwd()):\n",
    "    l.append(dirnames)"
   ]
  },
  {
   "cell_type": "code",
   "execution_count": 4,
   "metadata": {
    "collapsed": true
   },
   "outputs": [],
   "source": [
    "# Extracting Features of the songs\n",
    "\n",
    "for i in l[0]:\n",
    "    #for genre in genres1\n",
    "    for x in range(100):\n",
    "        # for song in batch of songs\n",
    "        \n",
    "        # Extracting the features\n",
    "        (rate,sig) = wav.read(i+'/'+i+'.000'+\"%02d\"%x+'.wav')\n",
    "        mfcc_feat = mfcc(sig,rate,nfft=551)\n",
    "        fbank_feat = logfbank(sig,rate,nfft=551)\n",
    "        sig_temp = np.reshape(sig, (sig.shape[0],1))\n",
    "        ssc_var = ssc(sig_temp,rate,nfft=551)\n",
    "        \n",
    "        #Adding features to the pandas dataframe\n",
    "        df.iloc[song_no][0] = mfcc_feat[0:2992,:]\n",
    "        df.iloc[song_no][1] = fbank_feat[0:2992,:]\n",
    "        df.iloc[song_no][2] = ssc_var[0:2992,:]\n",
    "        df.iloc[song_no][3] = i\n",
    "        \n",
    "        # Incrementing the song number\n",
    "        song_no+=1\n",
    "        \n",
    "    "
   ]
  },
  {
   "cell_type": "code",
   "execution_count": 9,
   "metadata": {
    "collapsed": true
   },
   "outputs": [],
   "source": [
    "df.to_pickle(\"Desktop/abc.pkl\")"
   ]
  }
 ],
 "metadata": {
  "kernelspec": {
   "display_name": "Python 2",
   "language": "python",
   "name": "python2"
  },
  "language_info": {
   "codemirror_mode": {
    "name": "ipython",
    "version": 2
   },
   "file_extension": ".py",
   "mimetype": "text/x-python",
   "name": "python",
   "nbconvert_exporter": "python",
   "pygments_lexer": "ipython2",
   "version": "2.7.13"
  }
 },
 "nbformat": 4,
 "nbformat_minor": 2
}
