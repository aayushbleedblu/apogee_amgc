{
 "cells": [
  {
   "cell_type": "code",
   "execution_count": 1,
   "metadata": {
    "collapsed": true
   },
   "outputs": [],
   "source": [
    "import pandas as pd\n",
    "import numpy as np\n",
    "from sklearn.preprocessing import StandardScaler\n",
    "from sklearn.model_selection import train_test_split\n",
    "from sklearn.decomposition import PCA"
   ]
  },
  {
   "cell_type": "code",
   "execution_count": 3,
   "metadata": {
    "collapsed": true
   },
   "outputs": [],
   "source": [
    "# Reading the dataframe after extracting features\n",
    "df = pd.read_pickle('abc.pkl')"
   ]
  },
  {
   "cell_type": "code",
   "execution_count": 4,
   "metadata": {
    "collapsed": true
   },
   "outputs": [],
   "source": [
    "# Splitting into train and test\n",
    "train, test = train_test_split(df, test_size=0.2)"
   ]
  },
  {
   "cell_type": "code",
   "execution_count": 5,
   "metadata": {
    "collapsed": true
   },
   "outputs": [],
   "source": [
    "# Storing the features of the songs in a 3-dimensional array\n",
    "train_arr = np.zeros((2992,65,800))\n",
    "test_arr = np.zeros((2992,65,200))\n",
    "for s in range(800):\n",
    "    train_arr[:,:,s] = np.concatenate((train.iloc[0,0],train.iloc[0,1],train.iloc[0,2]), axis=1)\n",
    "for t in range(200):\n",
    "    test_arr[:,:,t] = np.concatenate((test.iloc[0,0],test.iloc[0,1],test.iloc[0,2]), axis=1)\n",
    "temp_train_arr = train_arr\n",
    "temp_test_arr = test_arr"
   ]
  },
  {
   "cell_type": "code",
   "execution_count": 76,
   "metadata": {
    "collapsed": true
   },
   "outputs": [],
   "source": [
    "# Findin the mean and the variance of the features along the depth of the 3d volume\n",
    "arr_mean = np.mean(train_arr, axis = 2)\n",
    "arr_mean_reshaped = arr_mean.reshape(2992,65,1)\n",
    "\n",
    "arr_std = np.std(train_arr, axis = 2)\n",
    "arr_std_reshaped = arr_std.reshape(2992,65,1)"
   ]
  },
  {
   "cell_type": "code",
   "execution_count": null,
   "metadata": {
    "collapsed": true
   },
   "outputs": [],
   "source": [
    "# Standardising the array's values\n",
    "temp_train_arr = temp_train_arr - arr_mean_reshaped\n",
    "norm_train_arr = np.divide(temp_train_arr,arr_std_reshaped)\n",
    "\n",
    "temp_test_arr = temp_test_arr - arr_mean_reshaped\n",
    "norm_test_arr = np.divide(temp_test_arr,arr_std_reshaped)"
   ]
  },
  {
   "cell_type": "code",
   "execution_count": 80,
   "metadata": {
    "collapsed": true
   },
   "outputs": [],
   "source": [
    "df.to_pickle(\"Desktop/norm.pkl\")"
   ]
  }
 ],
 "metadata": {
  "kernelspec": {
   "display_name": "Python 3",
   "language": "python",
   "name": "python3"
  },
  "language_info": {
   "codemirror_mode": {
    "name": "ipython",
    "version": 3
   },
   "file_extension": ".py",
   "mimetype": "text/x-python",
   "name": "python",
   "nbconvert_exporter": "python",
   "pygments_lexer": "ipython3",
   "version": "3.6.1"
  }
 },
 "nbformat": 4,
 "nbformat_minor": 2
}
